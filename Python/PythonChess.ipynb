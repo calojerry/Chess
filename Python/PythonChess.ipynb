{
  "nbformat": 4,
  "nbformat_minor": 0,
  "metadata": {
    "colab": {
      "provenance": []
    },
    "kernelspec": {
      "name": "python3",
      "display_name": "Python 3"
    },
    "language_info": {
      "name": "python"
    }
  },
  "cells": [
    {
      "cell_type": "markdown",
      "source": [
        "# PYTHON CHESS\n",
        "## Instructions:\n",
        "1. Run: `%pip install python-chess` or run `pip install python-chess` on the terminal\n",
        "\n",
        "2. Run next code block to test if you have it installed"
      ],
      "metadata": {
        "id": "XLfLUnXFrqA6"
      }
    },
    {
      "cell_type": "code",
      "execution_count": null,
      "metadata": {
        "id": "6s4D2Pm8l-5f"
      },
      "outputs": [],
      "source": [
        "import chess\n",
        "\n",
        "# test\n",
        "board = chess.Board()\n",
        "print(board)"
      ]
    },
    {
      "cell_type": "markdown",
      "source": [
        "## Functions\n",
        "Run next code block to establish the functions you're going to use for the game"
      ],
      "metadata": {
        "id": "Hrru2H06sHGU"
      }
    },
    {
      "cell_type": "code",
      "source": [
        "# ASCII title and instructions\n",
        "TITLE = r\"\"\"\n",
        "  ____ _   _ _____ ____ ____\n",
        " / ___| | | | ____/ ___/ ___|\n",
        "| |   | |_| |  _| \\___ \\___ \\\n",
        "| |___|  _  | |___ ___) |__) |\n",
        " \\____|_| |_|_____|____/____/\n",
        "\"\"\"\n",
        "\n",
        "INSTRUCTIONS = \"Enter moves in UCI format (e.g., e2e4) or END to quit\\n\"\n",
        "\n",
        "def print_board_with_axes(board, invert=False):\n",
        "    \"\"\"Prints the board with rank and file axes.\"\"\"\n",
        "\n",
        "    board_str = board.unicode()  # use unicode representation\n",
        "    lines = board_str.splitlines()\n",
        "\n",
        "    if invert:\n",
        "        # for black’s perspective: flip ranks and rows\n",
        "        lines = [line[::-1] for line in lines[::-1]]\n",
        "        files = \"h  g  f  e  d  c  b  a\"  # black sees files reversed\n",
        "    else:\n",
        "        files = \"a  b  c  d  e  f  g  h\" # for white\n",
        "\n",
        "    print(\"  \" + files)\n",
        "\n",
        "    for i, line in enumerate(lines):\n",
        "        if invert:\n",
        "            rank = i + 1 # black sees ranks 1→e8 from top to bottom\n",
        "        else:\n",
        "            rank = 8 - i # white sees ranks 8→1 from top to bottom\n",
        "        print(f\"{rank} {line}\")\n",
        "\n",
        "    print(\"  \" + files)\n",
        "\n",
        "def check_end_conditions(board):\n",
        "    \"\"\"Check why the game ended and return a message if so.\"\"\"\n",
        "\n",
        "    outcome = board.outcome()  # unified result object\n",
        "\n",
        "    if outcome:\n",
        "        # game ended, check why\n",
        "        if outcome.termination == chess.Termination.CHECKMATE:\n",
        "            winner = \"White\" if outcome.winner else \"Black\"\n",
        "            return f\"Checkmate — {winner} wins!\"\n",
        "        elif outcome.termination == chess.Termination.STALEMATE:\n",
        "            return \"Stalemate — draw.\"\n",
        "        elif outcome.termination == chess.Termination.INSUFFICIENT_MATERIAL:\n",
        "            return \"Draw — insufficient material.\"\n",
        "        elif outcome.termination == chess.Termination.SEVENTYFIVE_MOVES:\n",
        "            return \"Draw — 75-move rule.\"\n",
        "        elif outcome.termination == chess.Termination.FIVEFOLD_REPETITION:\n",
        "            return \"Draw — fivefold repetition.\"\n",
        "        elif outcome.termination == chess.Termination.FIFTY_MOVES:\n",
        "            return \"Draw — 50-move rule (claimed).\"\n",
        "        elif outcome.termination == chess.Termination.THREEFOLD_REPETITION:\n",
        "            return \"Draw — threefold repetition (claimed).\"\n",
        "        else:\n",
        "            return f\"Game ended: {outcome.termination}\"\n",
        "    return None  # game not over yet\n",
        "\n",
        "def play_game():\n",
        "    \"\"\"Main game loop where players enter moves in UCI format.\"\"\"\n",
        "\n",
        "    board = chess.Board()\n",
        "\n",
        "    # print ascii title and instructions once at the start\n",
        "    print(TITLE)\n",
        "    print(INSTRUCTIONS)\n",
        "\n",
        "    while not board.is_game_over():\n",
        "        # fullmove number (starts at 1 for white's first move)\n",
        "        move_number = board.fullmove_number\n",
        "\n",
        "        # show which side's turn and display board\n",
        "        if board.turn == chess.WHITE:\n",
        "            print(f\"\\nMove {move_number} — White's turn:\")\n",
        "            print_board_with_axes(board)\n",
        "        else:\n",
        "            print(f\"\\nMove {move_number} — Black's turn:\")\n",
        "            print_board_with_axes(board, invert=True)\n",
        "\n",
        "        try:\n",
        "            # ask player for input\n",
        "            move_uci = input(\"Enter your move: \")\n",
        "\n",
        "            # allow manual exit by typing END\n",
        "            if move_uci.strip().upper() == \"END\":\n",
        "                print(\"Game terminated by user.\")\n",
        "                break  # exit the game loop immediately\n",
        "\n",
        "            # convert uci string into a move object\n",
        "            move = chess.Move.from_uci(move_uci)\n",
        "\n",
        "            # check legality of the move\n",
        "            if move in board.legal_moves:\n",
        "                board.push(move)  # apply move to board\n",
        "            else:\n",
        "                print(\"Invalid move. Please try again.\")\n",
        "\n",
        "        except ValueError:\n",
        "            # raised if uci string is malformed\n",
        "            print(\"Invalid input format. Please use UCI format (e.g., e2e4).\")\n",
        "        except Exception as e:\n",
        "            # catch-all for any other error\n",
        "            print(f\"An unexpected error occurred: {e}\")\n",
        "\n",
        "    # reached if the loop ends by game over or END command\n",
        "    result_msg = check_end_conditions(board)\n",
        "\n",
        "    print(\"\\nGame over!\")\n",
        "\n",
        "    if result_msg:\n",
        "        print(result_msg)\n",
        "\n",
        "    print_board_with_axes(board)"
      ],
      "metadata": {
        "id": "z9yOzv4cmjOV"
      },
      "execution_count": null,
      "outputs": []
    },
    {
      "cell_type": "markdown",
      "source": [
        "## The Game\n",
        "Run code block to play chess against yourself (or another person). Good luck."
      ],
      "metadata": {
        "id": "_1QH9-VDs1hg"
      }
    },
    {
      "cell_type": "code",
      "metadata": {
        "id": "cebea20d"
      },
      "source": [
        "if __name__ == \"__main__\":\n",
        "    try:\n",
        "        play_game()\n",
        "    except KeyboardInterrupt:\n",
        "        # handle Ctrl+C gracefully\n",
        "        print(\"\\nGame interrupted by user.\")\n",
        "    except Exception as e:\n",
        "        # catch fatal errors in main game\n",
        "        print(f\"Fatal error: {e}\")"
      ],
      "execution_count": null,
      "outputs": []
    },
    {
      "cell_type": "markdown",
      "source": [
        "##  Displaying SVG\n",
        "\n",
        "SVG refers to Scalable Vector Graphics, which is used to display an actual image of the board on Jupyter Notebooks/Google Colab\n",
        "\n",
        "See the example below:"
      ],
      "metadata": {
        "id": "4vxgMMVbLWcd"
      }
    },
    {
      "cell_type": "code",
      "source": [
        "import chess.svg\n",
        "from IPython.display import SVG, display\n",
        "\n",
        "board = chess.Board(\"8/8/8/8/4N3/8/8/8 w - - 0 1\")\n",
        "\n",
        "svg_code = chess.svg.board(\n",
        "    board,\n",
        "    fill=dict.fromkeys(board.attacks(chess.E4), \"#cc0000cc\"),\n",
        "    arrows=[chess.svg.Arrow(chess.E4, chess.F6, color=\"#0000cccc\")],\n",
        "    squares=chess.SquareSet(chess.BB_DARK_SQUARES & chess.BB_FILE_B),\n",
        "    size=350,\n",
        ")\n",
        "\n",
        "display(SVG(svg_code))"
      ],
      "metadata": {
        "id": "bAEkK2UtKJUO"
      },
      "execution_count": null,
      "outputs": []
    },
    {
      "cell_type": "markdown",
      "source": [
        "The following code block implements SVG into the `display_board()` function. Keep in mind, the SVG rendering is only really meant to used in IPython/Juptyer Notebook, not `.py` files."
      ],
      "metadata": {
        "id": "urXk9TKbL4__"
      }
    },
    {
      "cell_type": "code",
      "source": [
        "def display_board(board, invert=False):\n",
        "    \"\"\"Display the current chess board as an SVG in Colab.\"\"\"\n",
        "    svg_code = chess.svg.board(board, flipped=invert, size=400)\n",
        "    display(SVG(svg_code))\n",
        "    print(\" \")\n",
        "\n",
        "def play_game():\n",
        "    \"\"\"Main game loop where players enter moves in UCI format.\"\"\"\n",
        "\n",
        "    board = chess.Board()\n",
        "\n",
        "    print(TITLE)\n",
        "    print(INSTRUCTIONS)\n",
        "\n",
        "    while not board.is_game_over():\n",
        "        move_number = board.fullmove_number\n",
        "\n",
        "        if board.turn == chess.WHITE:\n",
        "            print(f\"\\nMove {move_number} — White's turn:\")\n",
        "            display_board(board)\n",
        "        else:\n",
        "            print(f\"\\nMove {move_number} — Black's turn:\")\n",
        "            display_board(board, invert=True)\n",
        "\n",
        "        try:\n",
        "            move_uci = input(\"Enter your move: \")\n",
        "\n",
        "            if move_uci.strip().upper() == \"END\":\n",
        "                print(\"Game terminated by user.\")\n",
        "                break\n",
        "\n",
        "            move = chess.Move.from_uci(move_uci)\n",
        "\n",
        "            if move in board.legal_moves:\n",
        "                board.push(move)\n",
        "            else:\n",
        "                print(\"Invalid move. Please try again.\")\n",
        "\n",
        "        except ValueError:\n",
        "            print(\"Invalid input format. Please use UCI format (e.g., e2e4).\")\n",
        "        except Exception as e:\n",
        "            print(f\"An unexpected error occurred: {e}\")\n",
        "\n",
        "    result_msg = check_end_conditions(board)\n",
        "\n",
        "    print(\"\\nGame over!\")\n",
        "    if result_msg:\n",
        "        print(result_msg)\n",
        "\n",
        "    display_board(board)"
      ],
      "metadata": {
        "id": "eM974kUCKzR-"
      },
      "execution_count": null,
      "outputs": []
    },
    {
      "cell_type": "code",
      "source": [
        "if __name__ == \"__main__\":\n",
        "    try:\n",
        "        play_game()\n",
        "    except KeyboardInterrupt:\n",
        "        # handle Ctrl+C gracefully\n",
        "        print(\"\\nGame interrupted by user.\")\n",
        "    except Exception as e:\n",
        "        # catch fatal errors in main game\n",
        "        print(f\"Fatal error: {e}\")"
      ],
      "metadata": {
        "id": "Zo1FS79DPVdm"
      },
      "execution_count": null,
      "outputs": []
    },
    {
      "cell_type": "markdown",
      "source": [
        "* Note: if the code block is not showing an input, try refreshing the page. It is a formatting issue with Google colab and not the program."
      ],
      "metadata": {
        "id": "L5qTmv94O7N3"
      }
    }
  ]
}
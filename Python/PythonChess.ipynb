{
  "nbformat": 4,
  "nbformat_minor": 0,
  "metadata": {
    "colab": {
      "provenance": []
    },
    "kernelspec": {
      "name": "python3",
      "display_name": "Python 3"
    },
    "language_info": {
      "name": "python"
    }
  },
  "cells": [
    {
      "cell_type": "markdown",
      "source": [
        "# PYTHON CHESS\n",
        "## Instructions:\n",
        "1. Run: `%pip install python-chess` or run `pip install python-chess` on the terminal\n",
        "\n",
        "2. Run next code block to test if you have it installed"
      ],
      "metadata": {
        "id": "XLfLUnXFrqA6"
      }
    },
    {
      "cell_type": "code",
      "execution_count": 20,
      "metadata": {
        "colab": {
          "base_uri": "https://localhost:8080/"
        },
        "id": "6s4D2Pm8l-5f",
        "outputId": "f03cc0f0-d4af-4426-b533-c17ebce90373"
      },
      "outputs": [
        {
          "output_type": "stream",
          "name": "stdout",
          "text": [
            "r n b q k b n r\n",
            "p p p p p p p p\n",
            ". . . . . . . .\n",
            ". . . . . . . .\n",
            ". . . . . . . .\n",
            ". . . . . . . .\n",
            "P P P P P P P P\n",
            "R N B Q K B N R\n"
          ]
        }
      ],
      "source": [
        "import chess\n",
        "\n",
        "# test\n",
        "board = chess.Board()\n",
        "print(board)"
      ]
    },
    {
      "cell_type": "markdown",
      "source": [
        "## Functions\n",
        "Run next code block to establish the function's you're going to use for the game"
      ],
      "metadata": {
        "id": "Hrru2H06sHGU"
      }
    },
    {
      "cell_type": "code",
      "source": [
        "# ASCII title and instructions\n",
        "TITLE = r\"\"\"\n",
        "  ____ _   _ _____ ____ ____\n",
        " / ___| | | | ____/ ___/ ___|\n",
        "| |   | |_| |  _| \\___ \\___ \\\n",
        "| |___|  _  | |___ ___) |__) |\n",
        " \\____|_| |_|_____|____/____/\n",
        "\"\"\"\n",
        "\n",
        "INSTRUCTIONS = \"Enter moves in UCI format (e.g., e2e4) or END to quit\\n\"\n",
        "\n",
        "def print_board_with_axes(board, invert=False):\n",
        "    \"\"\"Prints the board with rank and file axes.\"\"\"\n",
        "\n",
        "    board_str = board.unicode()  # use unicode representation\n",
        "    lines = board_str.splitlines()\n",
        "\n",
        "    if invert:\n",
        "        # for black’s perspective: flip ranks and rows\n",
        "        lines = [line[::-1] for line in lines[::-1]]\n",
        "        files = \"h  g  f  e  d  c  b  a\"  # black sees files reversed\n",
        "    else:\n",
        "        files = \"a  b  c  d  e  f  g  h\" # for white\n",
        "\n",
        "    print(\"  \" + files)\n",
        "\n",
        "    for i, line in enumerate(lines):\n",
        "        if invert:\n",
        "            rank = i + 1 # black sees ranks 1→e8 from top to bottom\n",
        "        else:\n",
        "            rank = 8 - i # white sees ranks 8→1 from top to bottom\n",
        "        print(f\"{rank} {line}\")\n",
        "\n",
        "    print(\"  \" + files)\n",
        "\n",
        "def play_game():\n",
        "    \"\"\"Main game loop where players enter moves in UCI format.\"\"\"\n",
        "\n",
        "    board = chess.Board()\n",
        "\n",
        "    # print ascii title and instructions once at the start\n",
        "    print(TITLE)\n",
        "    print(INSTRUCTIONS)\n",
        "\n",
        "    while not board.is_game_over():\n",
        "        # fullmove number (starts at 1 for white's first move)\n",
        "        move_number = board.fullmove_number\n",
        "\n",
        "        # show which side's turn and display board\n",
        "        if board.turn == chess.WHITE:\n",
        "            print(f\"\\nMove {move_number} — White's turn:\")\n",
        "            print_board_with_axes(board)\n",
        "        else:\n",
        "            print(f\"\\nMove {move_number} — Black's turn:\")\n",
        "            print_board_with_axes(board, invert=True)\n",
        "\n",
        "        try:\n",
        "            # ask player for input\n",
        "            move_uci = input(\"Enter your move: \")\n",
        "\n",
        "            # allow manual exit by typing END\n",
        "            if move_uci.strip().upper() == \"END\":\n",
        "                print(\"Game terminated by user.\")\n",
        "                break  # exit the game loop immediately\n",
        "\n",
        "            # convert uci string into a move object\n",
        "            move = chess.Move.from_uci(move_uci)\n",
        "\n",
        "            # check legality of the move\n",
        "            if move in board.legal_moves:\n",
        "                board.push(move)  # apply move to board\n",
        "            else:\n",
        "                print(\"Invalid move. Please try again.\")\n",
        "\n",
        "        except ValueError:\n",
        "            # raised if uci string is malformed\n",
        "            print(\"Invalid input format. Please use UCI format (e.g., e2e4).\")\n",
        "        except Exception as e:\n",
        "            # catch-all for any other error\n",
        "            print(f\"An unexpected error occurred: {e}\")\n",
        "\n",
        "    # reached if the loop ends by game over or END command\n",
        "    print(\"Game over!\")\n",
        "    print_board_with_axes(board)"
      ],
      "metadata": {
        "id": "z9yOzv4cmjOV"
      },
      "execution_count": 36,
      "outputs": []
    },
    {
      "cell_type": "markdown",
      "source": [
        "## The Game\n",
        "Run code block to play chess against yourself (or another person). Good luck."
      ],
      "metadata": {
        "id": "_1QH9-VDs1hg"
      }
    },
    {
      "cell_type": "code",
      "metadata": {
        "colab": {
          "base_uri": "https://localhost:8080/"
        },
        "id": "cebea20d",
        "outputId": "0e58fd5c-de84-41bb-e042-ee2616d542b5"
      },
      "source": [
        "if __name__ == \"__main__\":\n",
        "    try:\n",
        "        play_game()\n",
        "    except KeyboardInterrupt:\n",
        "        # handle Ctrl+C gracefully\n",
        "        print(\"\\nGame interrupted by user.\")\n",
        "    except Exception as e:\n",
        "        # catch fatal errors in main game\n",
        "        print(f\"Fatal error: {e}\")"
      ],
      "execution_count": null,
      "outputs": [
        {
          "output_type": "stream",
          "name": "stdout",
          "text": [
            "\n",
            "  ____ _   _ _____ ____ ____  \n",
            " / ___| | | | ____/ ___/ ___| \n",
            "| |   | |_| |  _| \\___ \\___ \\ \n",
            "| |___|  _  | |___ ___) |__) |\n",
            " \\____|_| |_|_____|____/____/ \n",
            "\n",
            "Enter moves in UCI format (e.g., e2e4) or END to quit\n",
            "\n",
            "\n",
            "Move 1 — White's turn:\n",
            "  a  b  c  d  e  f  g  h\n",
            "8 ♜ ♞ ♝ ♛ ♚ ♝ ♞ ♜\n",
            "7 ♟ ♟ ♟ ♟ ♟ ♟ ♟ ♟\n",
            "6 ⭘ ⭘ ⭘ ⭘ ⭘ ⭘ ⭘ ⭘\n",
            "5 ⭘ ⭘ ⭘ ⭘ ⭘ ⭘ ⭘ ⭘\n",
            "4 ⭘ ⭘ ⭘ ⭘ ⭘ ⭘ ⭘ ⭘\n",
            "3 ⭘ ⭘ ⭘ ⭘ ⭘ ⭘ ⭘ ⭘\n",
            "2 ♙ ♙ ♙ ♙ ♙ ♙ ♙ ♙\n",
            "1 ♖ ♘ ♗ ♕ ♔ ♗ ♘ ♖\n",
            "  a  b  c  d  e  f  g  h\n",
            "Enter your move: e2e4\n",
            "\n",
            "Move 1 — Black's turn:\n",
            "  h  g  f  e  d  c  b  a\n",
            "1 ♖ ♘ ♗ ♔ ♕ ♗ ♘ ♖\n",
            "2 ♙ ♙ ♙ ⭘ ♙ ♙ ♙ ♙\n",
            "3 ⭘ ⭘ ⭘ ⭘ ⭘ ⭘ ⭘ ⭘\n",
            "4 ⭘ ⭘ ⭘ ♙ ⭘ ⭘ ⭘ ⭘\n",
            "5 ⭘ ⭘ ⭘ ⭘ ⭘ ⭘ ⭘ ⭘\n",
            "6 ⭘ ⭘ ⭘ ⭘ ⭘ ⭘ ⭘ ⭘\n",
            "7 ♟ ♟ ♟ ♟ ♟ ♟ ♟ ♟\n",
            "8 ♜ ♞ ♝ ♚ ♛ ♝ ♞ ♜\n",
            "  h  g  f  e  d  c  b  a\n",
            "Enter your move: e7e5\n",
            "\n",
            "Move 2 — White's turn:\n",
            "  a  b  c  d  e  f  g  h\n",
            "8 ♜ ♞ ♝ ♛ ♚ ♝ ♞ ♜\n",
            "7 ♟ ♟ ♟ ♟ ⭘ ♟ ♟ ♟\n",
            "6 ⭘ ⭘ ⭘ ⭘ ⭘ ⭘ ⭘ ⭘\n",
            "5 ⭘ ⭘ ⭘ ⭘ ♟ ⭘ ⭘ ⭘\n",
            "4 ⭘ ⭘ ⭘ ⭘ ♙ ⭘ ⭘ ⭘\n",
            "3 ⭘ ⭘ ⭘ ⭘ ⭘ ⭘ ⭘ ⭘\n",
            "2 ♙ ♙ ♙ ♙ ⭘ ♙ ♙ ♙\n",
            "1 ♖ ♘ ♗ ♕ ♔ ♗ ♘ ♖\n",
            "  a  b  c  d  e  f  g  h\n"
          ]
        }
      ]
    },
    {
      "cell_type": "code",
      "source": [],
      "metadata": {
        "id": "bSs_RoDatjpV"
      },
      "execution_count": null,
      "outputs": []
    }
  ]
}
